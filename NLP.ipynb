{
  "nbformat": 4,
  "nbformat_minor": 0,
  "metadata": {
    "colab": {
      "provenance": [],
      "gpuType": "T4",
      "mount_file_id": "10WK40K4p7trJRBS0ZC4rt2ZGelUQ6u8y",
      "authorship_tag": "ABX9TyPUF/+k/59Wco2yvo/VpIWR",
      "include_colab_link": true
    },
    "kernelspec": {
      "name": "python3",
      "display_name": "Python 3"
    },
    "language_info": {
      "name": "python"
    },
    "accelerator": "GPU"
  },
  "cells": [
    {
      "cell_type": "markdown",
      "metadata": {
        "id": "view-in-github",
        "colab_type": "text"
      },
      "source": [
        "<a href=\"https://colab.research.google.com/github/KGochae/Youtube/blob/main/NLP.ipynb\" target=\"_parent\"><img src=\"https://colab.research.google.com/assets/colab-badge.svg\" alt=\"Open In Colab\"/></a>"
      ]
    },
    {
      "cell_type": "code",
      "execution_count": 1,
      "metadata": {
        "id": "4L1B-MeEnmWO"
      },
      "outputs": [],
      "source": [
        "# 패키지 import\n",
        "\n",
        "import pandas as pd\n",
        "import numpy as np\n",
        "import matplotlib.pyplot as plt\n",
        "import seaborn as sns\n",
        "from tqdm import tqdm\n",
        "import platform\n",
        "import warnings\n",
        "import pickle\n",
        "import re\n",
        "\n",
        "from tensorflow.keras.models import Model, load_model\n",
        "from tensorflow.keras.layers import Input, Embedding, Dense, GRU, Dropout,LSTM, Bidirectional, Concatenate\n",
        "from tensorflow.keras.utils import plot_model\n",
        "from tensorflow.keras.callbacks import EarlyStopping, ModelCheckpoint\n",
        "from tensorflow.keras.preprocessing.sequence import pad_sequences\n",
        "from tensorflow.keras.models import Sequential\n",
        "from keras.preprocessing.text import Tokenizer\n",
        "\n",
        "warnings.filterwarnings(\"ignore\")"
      ]
    },
    {
      "cell_type": "markdown",
      "source": [
        "# 데이터 결합 및 일부 라벨 수정\n",
        "* clean(긍정) = 1  중립,부정 = 0"
      ],
      "metadata": {
        "id": "_XbDnL5ijKeT"
      }
    },
    {
      "cell_type": "code",
      "source": [
        "# Set display options to show all rows and columns\n",
        "pd.set_option('display.max_rows', None)     # Show all rows\n",
        "pd.set_option('display.max_columns', None)  # Show all columns"
      ],
      "metadata": {
        "id": "3OA62PFtVqkr"
      },
      "execution_count": null,
      "outputs": []
    },
    {
      "cell_type": "code",
      "source": [
        "%tensorflow_version 2.x\n",
        "import tensorflow as tf\n",
        "device_name = tf.test.gpu_device_name()\n",
        "if device_name != '/device:GPU:0':\n",
        "  raise SystemError('GPU device not found')\n",
        "print('Found GPU at: {}'.format(device_name))"
      ],
      "metadata": {
        "colab": {
          "base_uri": "https://localhost:8080/"
        },
        "id": "QFOpmEp2oQfv",
        "outputId": "0fb97bf7-cf09-4928-fa6b-18061080eb4c"
      },
      "execution_count": null,
      "outputs": [
        {
          "output_type": "stream",
          "name": "stdout",
          "text": [
            "Colab only includes TensorFlow 2.x; %tensorflow_version has no effect.\n",
            "Found GPU at: /device:GPU:0\n"
          ]
        }
      ]
    },
    {
      "cell_type": "code",
      "source": [
        "comment_df = pd.read_csv('/content/drive/MyDrive/comment_df.csv')\n",
        "total_df = pd.read_csv('/content/drive/MyDrive/total_df.csv')\n",
        "hate_df = pd.read_csv('/content/drive/MyDrive/Colab Notebooks/HateScore.csv')\n",
        "dev = pd.read_csv('/content/drive/MyDrive/train.tsv',delimiter='\\t')"
      ],
      "metadata": {
        "id": "eZpZVVL6oq2l"
      },
      "execution_count": null,
      "outputs": []
    },
    {
      "cell_type": "code",
      "source": [
        "dev = dev.rename(columns={'comments':'reviews','hate':'sentiment'})\n",
        "dev['sentiment'] = dev['sentiment'].apply(lambda x: 1 if x == 'none' else 0) # clean = 1 부정 = 0\n",
        "dev = dev[['reviews','sentiment']]\n",
        "dev['sentiment'].value_counts()"
      ],
      "metadata": {
        "colab": {
          "base_uri": "https://localhost:8080/"
        },
        "id": "gflyyvzfaMRg",
        "outputId": "5e09cb0d-c322-4fbf-ce69-04d39a132afe"
      },
      "execution_count": null,
      "outputs": [
        {
          "output_type": "execute_result",
          "data": {
            "text/plain": [
              "0    4410\n",
              "1    3486\n",
              "Name: sentiment, dtype: int64"
            ]
          },
          "metadata": {},
          "execution_count": 32
        }
      ]
    },
    {
      "cell_type": "code",
      "source": [
        "hate_df =  hate_df[hate_df['source'] == '온라인 댓글']\n",
        "hate_df = hate_df.rename(columns={'comment': 'reviews','macrolabel':'sentiment'})\n",
        "hate_df['sentiment'] = hate_df['sentiment'].apply(lambda x: 1 if x == 'Clean' else 0) # clean = 1 부정 = 0\n",
        "hate_df = hate_df[['reviews','sentiment']]\n",
        "hate_df['sentiment'].value_counts().plot(kind='bar')\n"
      ],
      "metadata": {
        "id": "cLY02e6BzHje"
      },
      "execution_count": null,
      "outputs": []
    },
    {
      "cell_type": "code",
      "source": [
        "hate_df= hate_df[hate_df['sentiment'] == 0]\n",
        "hate_df"
      ],
      "metadata": {
        "id": "JI-OKh7t44_M"
      },
      "execution_count": null,
      "outputs": []
    },
    {
      "cell_type": "code",
      "source": [
        "#  속성 단어사전 불러오기 , txt 파일을 list 형태로 불러오는 법\n",
        "import codecs\n",
        "with open('/content/drive/MyDrive/Colab Notebooks/multi_labeling_NLP/긍정.txt', encoding='utf-8') as pos:\n",
        "  positive = pos.readlines()\n",
        "\n",
        "positive = [pos.replace(\"\\n\", \"\")for pos in positive]\n",
        "\n",
        "\n",
        "#positive list 안에 있는 단어가 포함되어있으면 1 아닌경우 0 으로 라벨\n",
        "import re\n",
        "labels = []\n",
        "\n",
        "total = list(comment_df['comment'])\n",
        "\n",
        "for token in tqdm(total):\n",
        "  clean = re.sub('[-=+,#/\\?:^$.@*\\\"※~&%ㆍ!』\\\\‘|\\(\\)\\[\\]\\<\\>`\\'…\\\"\\“》]', '', str(token))\n",
        "  positive_flag = False\n",
        "  label = 0\n",
        "  for i in range(len(positive)):\n",
        "    if positive[i] in clean:\n",
        "      label = 1\n",
        "      positive_flag = True\n",
        "      break\n",
        "\n",
        "  labels.append(label)\n",
        "\n",
        "comment_df['sentiment'] = labels\n",
        "comment_df = comment_df[['comment','sentiment']]\n",
        "pos = comment_df[comment_df['sentiment'] == 1]"
      ],
      "metadata": {
        "colab": {
          "base_uri": "https://localhost:8080/"
        },
        "id": "NJvaj-6IqPhx",
        "outputId": "5369790c-45aa-4f3c-982e-6ce28bf7ab3c"
      },
      "execution_count": null,
      "outputs": [
        {
          "output_type": "stream",
          "name": "stderr",
          "text": [
            "100%|██████████| 53298/53298 [00:00<00:00, 93925.72it/s]\n"
          ]
        }
      ]
    },
    {
      "cell_type": "code",
      "source": [
        "pos = pos.rename(columns={'comment': 'reviews'})"
      ],
      "metadata": {
        "id": "vIZLUUGEqxeY"
      },
      "execution_count": null,
      "outputs": []
    },
    {
      "cell_type": "code",
      "source": [
        "total_df = pd.concat([pos,total_df], axis = 0 )\n",
        "total_df = pd.concat([hate_df,total_df], axis=0)\n",
        "total_df = pd.concat([total_df,dev], axis = 0)"
      ],
      "metadata": {
        "id": "_trzznDHqYQx"
      },
      "execution_count": null,
      "outputs": []
    },
    {
      "cell_type": "code",
      "source": [
        "total_df['sentiment'].value_counts().plot(kind = 'bar')\n",
        "print(total_df[total_df['sentiment'] == 0].count())\n",
        "print(total_df[total_df['sentiment'] == 1].count())"
      ],
      "metadata": {
        "id": "PuBSXY8J6IAc"
      },
      "execution_count": null,
      "outputs": []
    },
    {
      "cell_type": "code",
      "source": [
        "sample = total_df.sample(100)"
      ],
      "metadata": {
        "id": "TjXZsWT5sode"
      },
      "execution_count": null,
      "outputs": []
    },
    {
      "cell_type": "code",
      "source": [],
      "metadata": {
        "id": "-3y4dDiIcTWf"
      },
      "execution_count": null,
      "outputs": []
    },
    {
      "cell_type": "markdown",
      "source": [
        "# 자연어 전처리"
      ],
      "metadata": {
        "id": "EnvdTRFejcSC"
      }
    },
    {
      "cell_type": "code",
      "source": [
        "# !bash install_mecab-ko_on_colab_light_220429.sh\n",
        "\n",
        "! git clone https://github.com/lovit/customized_konlpy.git\n",
        "! pip install customized_konlpy"
      ],
      "metadata": {
        "colab": {
          "base_uri": "https://localhost:8080/"
        },
        "id": "0iBgceSVq9GP",
        "outputId": "4afb88ae-7189-491d-f2c4-e61722769924"
      },
      "execution_count": null,
      "outputs": [
        {
          "output_type": "stream",
          "name": "stdout",
          "text": [
            "Cloning into 'customized_konlpy'...\n",
            "remote: Enumerating objects: 618, done.\u001b[K\n",
            "remote: Total 618 (delta 0), reused 0 (delta 0), pack-reused 618\u001b[K\n",
            "Receiving objects: 100% (618/618), 950.06 KiB | 20.65 MiB/s, done.\n",
            "Resolving deltas: 100% (345/345), done.\n",
            "Collecting customized_konlpy\n",
            "  Downloading customized_konlpy-0.0.64-py3-none-any.whl (881 kB)\n",
            "\u001b[2K     \u001b[90m━━━━━━━━━━━━━━━━━━━━━━━━━━━━━━━━━━━━━━\u001b[0m \u001b[32m881.5/881.5 kB\u001b[0m \u001b[31m12.1 MB/s\u001b[0m eta \u001b[36m0:00:00\u001b[0m\n",
            "\u001b[?25hCollecting Jpype1>=0.6.1 (from customized_konlpy)\n",
            "  Downloading JPype1-1.4.1-cp310-cp310-manylinux_2_12_x86_64.manylinux2010_x86_64.whl (465 kB)\n",
            "\u001b[2K     \u001b[90m━━━━━━━━━━━━━━━━━━━━━━━━━━━━━━━━━━━━━━\u001b[0m \u001b[32m465.3/465.3 kB\u001b[0m \u001b[31m41.7 MB/s\u001b[0m eta \u001b[36m0:00:00\u001b[0m\n",
            "\u001b[?25hCollecting konlpy>=0.4.4 (from customized_konlpy)\n",
            "  Downloading konlpy-0.6.0-py2.py3-none-any.whl (19.4 MB)\n",
            "\u001b[2K     \u001b[90m━━━━━━━━━━━━━━━━━━━━━━━━━━━━━━━━━━━━━━━━\u001b[0m \u001b[32m19.4/19.4 MB\u001b[0m \u001b[31m58.2 MB/s\u001b[0m eta \u001b[36m0:00:00\u001b[0m\n",
            "\u001b[?25hRequirement already satisfied: packaging in /usr/local/lib/python3.10/dist-packages (from Jpype1>=0.6.1->customized_konlpy) (23.1)\n",
            "Requirement already satisfied: lxml>=4.1.0 in /usr/local/lib/python3.10/dist-packages (from konlpy>=0.4.4->customized_konlpy) (4.9.3)\n",
            "Requirement already satisfied: numpy>=1.6 in /usr/local/lib/python3.10/dist-packages (from konlpy>=0.4.4->customized_konlpy) (1.22.4)\n",
            "Installing collected packages: Jpype1, konlpy, customized_konlpy\n",
            "Successfully installed Jpype1-1.4.1 customized_konlpy-0.0.64 konlpy-0.6.0\n"
          ]
        }
      ]
    },
    {
      "cell_type": "code",
      "source": [
        "total_df['reviews'] = total_df['reviews'].str.replace(\"[^ㄱ-ㅎㅏ-ㅣ가-힣 ]\",\"\")  #정규 표현식 수행\n",
        "total_df['reviews'].replace('', np.nan, inplace=True)  #비어 있는 행은 null값으로 처리\n",
        "total_df.dropna(how='any', inplace=True)  #null 값 제거\n",
        "total_df.drop_duplicates(subset = ['reviews'], inplace=True) #중복된 행 제거"
      ],
      "metadata": {
        "id": "thg7gLU_q5O8"
      },
      "execution_count": null,
      "outputs": []
    },
    {
      "cell_type": "code",
      "source": [
        "# 리뷰 단어사전 추가\n",
        "from ckonlpy.tag import Twitter\n",
        "twi = Twitter()\n",
        "\n",
        "words = [\n",
        "          (['우왁굳','왁굳','영택'],'Noun'),\n",
        "          # 이세돌\n",
        "          (['챠니','챤이','비챤'],'Noun'), (['이세돌','이세계'],'Noun'),\n",
        "          (['버거','징버거'],'Noun'), ('릴파', 'Noun'), (['르르땅','주르르'],'Noun'), (['아잉네','아이네'],'Noun'),(['세구','고세구','눈나구'],'Noun'),\n",
        "          ('지구즈','Noun'),('언니즈','Noun'),('막내즈','Noun'),('헨타이','Noun'), ('튽훈','Noun'),('가성비','Noun'),\n",
        "\n",
        "           (['레전드','레게노'],'Noun'), (['아웃트로','인트로'],'Noun'),(['브이알챗','브이알'],'Noun'),(['수듄','고로시','뇌절'],'Noun'),(['킹아','킹애','존맛탱'],'Adjective'),\n",
        "          (['상현','하현'],'Noun'), (['고멤','고정멤버','아카데미'],'Noun'), (['고단씨','준구구','준99'],'Noun'),(['십덕','씹덕','오타쿠'],'Noun'),\n",
        "\n",
        "          (['왁타버스','왁타'],'Noun'), (['루숙','해루석'],'Noun'),(['뢴트','뢴트게늄'],'Noun'),('비하인드','Noun'), (['춘식','곽춘식'],'Noun'),\n",
        "          ('호드','Noun'), (['캘칼','캘리칼리'],'Noun'),(['왁파고','황파고'],'Noun'),(['혜지','독고혜지'],'Noun'), (['히키퀸','히키킹'],'Noun'), ('도파민','Noun'),\n",
        "          ('닌닌','Noun'), ('시리안','Noun'), ('젠투','Noun'), ('공대진','Noun'), (['셈이','수셈이'],'Noun'), ('빅토리','Noun'),('발렌타인','Noun'),('아마최','Noun'),('아마데우스최','Noun'),\n",
        "          ('세용','Noun'), (['진희','지니'],'Noun'), (['ㄱㅇㅇ','ㄹㄱㄴ','ㄺㄴ','ㅅㅌㅊ','ㅎㅌㅊ','ㅆㅅㅌㅊ','ㅆㅎㅌㅊ'],'KoreanParticle'),\n",
        "          (['메갈','일베','재기'],'Noun')\n",
        "\n",
        "\n",
        "         ]\n",
        "\n",
        "for word in words:\n",
        "    name, poomsa = word\n",
        "    twi.add_dictionary(name, poomsa)"
      ],
      "metadata": {
        "id": "2YHzErXLq_ov"
      },
      "execution_count": null,
      "outputs": []
    },
    {
      "cell_type": "code",
      "source": [
        "text = '인조적인 아름다움에 눈코뜰새없다최근본영화중 최고'\n",
        "print(twi.pos(text,norm=True)) # 띄어쓰기가 안된경우 확실히 거슬린다..\n",
        "\n",
        "text= ' 도입부 레게노'\n",
        "print(twi.pos(text,norm=True))\n"
      ],
      "metadata": {
        "id": "V9NZjIGArBjq",
        "colab": {
          "base_uri": "https://localhost:8080/"
        },
        "outputId": "83c5a0a6-d940-4130-d44e-70158d8f3197"
      },
      "execution_count": null,
      "outputs": [
        {
          "output_type": "stream",
          "name": "stdout",
          "text": [
            "[('인', 'Noun'), ('조적', 'Noun'), ('인', 'Josa'), ('아름', 'Noun'), ('다', 'Josa'), ('움', 'Noun'), ('에', 'Josa'), ('눈코뜰새', 'Noun'), ('없다', 'Adjective'), ('최근', 'Noun'), ('본영', 'Noun'), ('화중', 'Noun'), ('최고', 'Noun')]\n",
            "[('도입', 'Noun'), ('부', 'Noun'), ('레게노', 'Noun')]\n"
          ]
        }
      ]
    },
    {
      "cell_type": "code",
      "source": [
        "with tf.device('/device:GPU:0'):\n",
        "  text_token = []\n",
        "  for sentence in tqdm(total_df['reviews'].sample(100)):\n",
        "      tmp = []\n",
        "      tmp = twi.pos(sentence, norm=True)  #토큰화\n",
        "      text_token.append(tmp)"
      ],
      "metadata": {
        "colab": {
          "base_uri": "https://localhost:8080/"
        },
        "id": "uiRChBj-ojqa",
        "outputId": "452ea138-b2d2-4728-9439-964beb1fe1c4"
      },
      "execution_count": null,
      "outputs": [
        {
          "output_type": "stream",
          "name": "stderr",
          "text": [
            "100%|██████████| 100/100 [00:01<00:00, 58.42it/s]\n"
          ]
        }
      ]
    },
    {
      "cell_type": "code",
      "source": [
        "text_token"
      ],
      "metadata": {
        "id": "aed9Jb3Noq9B"
      },
      "execution_count": null,
      "outputs": []
    },
    {
      "cell_type": "code",
      "source": [
        "stopwords = ['의', '가', '이', '은', '는', '과', '도', '를', '으로', '자', '에', '고', '세요', '니다', '입니다',\n",
        "             '하다', '을', '이다', '다', '것', '로', '에서', '그', '인', '서', '네요', '음', '임','랑',\n",
        "             '게', '요', '에게', '엔', '이고', '네', '거', '예요', '이에요', '어요', '어서', '여요', '하여']"
      ],
      "metadata": {
        "id": "lNAm4O_paM5G"
      },
      "execution_count": null,
      "outputs": []
    },
    {
      "cell_type": "code",
      "source": [
        "stopwords = ['의', '가', '이', '은', '는', '과', '도', '를', '으로', '자', '에', '세요', '니다', '입니다',\n",
        "             '하다', '을', '이다', '다', '것', '로', '에서', '그', '서', '네요', '음', '임','랑',\n",
        "             '게', '요', '에게', '엔', '이고', '거', '예요', '이에요', '어요', '여요', '하여', '하고']\n",
        "\n",
        "with tf.device('/device:GPU:0'):\n",
        "  text_token = []\n",
        "  for sentence in tqdm(total_df['reviews']):\n",
        "      tmp = []\n",
        "      tmp = twi.morphs(sentence, norm=True)  #토큰화\n",
        "      tmp = [word for word in tmp if not word in stopwords]  #불용어 제거\n",
        "      text_token.append(tmp)"
      ],
      "metadata": {
        "colab": {
          "base_uri": "https://localhost:8080/"
        },
        "id": "uBObdcB2rPAe",
        "outputId": "2780d75a-9b7a-4b77-b7bd-8f04888bd4fb"
      },
      "execution_count": null,
      "outputs": [
        {
          "output_type": "stream",
          "name": "stderr",
          "text": [
            "100%|██████████| 247931/247931 [10:39<00:00, 387.83it/s]\n"
          ]
        }
      ]
    },
    {
      "cell_type": "code",
      "source": [
        "text_token"
      ],
      "metadata": {
        "id": "Qp8wRJXAucUG",
        "colab": {
          "base_uri": "https://localhost:8080/"
        },
        "outputId": "a43f3235-874a-4ace-fb81-7ee06c20adbf"
      },
      "execution_count": null,
      "outputs": [
        {
          "output_type": "execute_result",
          "data": {
            "text/plain": [
              "[['아'], ['이'], ['네'], [], ['귀'], ['여'], ['워'], [], ['ㅋ'], ['ㅋ']]"
            ]
          },
          "metadata": {},
          "execution_count": 77
        }
      ]
    },
    {
      "cell_type": "code",
      "source": [
        "from keras.preprocessing.text import Tokenizer\n",
        "tokenizer = Tokenizer()\n",
        "tokenizer.fit_on_texts(text_token)\n"
      ],
      "metadata": {
        "id": "13mB9fmeuPUU"
      },
      "execution_count": null,
      "outputs": []
    },
    {
      "cell_type": "code",
      "source": [
        "threshold = 2\n",
        "total_cnt = len(tokenizer.word_index) # 단어의 수\n",
        "rare_cnt = 0 # 등장 빈도수가 threshold보다 작은 단어의 개수를 카운트\n",
        "total_freq = 0 # 훈련 데이터의 전체 단어 빈도수 총 합\n",
        "rare_freq = 0 # 등장 빈도수가 threshold보다 작은 단어의 등장 빈도수의 총 합\n",
        "\n",
        "# 단어와 빈도수의 쌍(pair)을 key와 value로 받는다.\n",
        "for key, value in tokenizer.word_counts.items():\n",
        "    total_freq = total_freq + value\n",
        "\n",
        "    # 단어의 등장 빈도수가 threshold보다 작으면\n",
        "    if(value < threshold):\n",
        "        rare_cnt = rare_cnt + 1\n",
        "        rare_freq = rare_freq + value\n",
        "\n",
        "print('단어 집합(vocabulary)의 크기 :',total_cnt)\n",
        "print('등장 빈도가 %s번 이하인 희귀 단어의 수: %s'%(threshold - 1, rare_cnt))\n",
        "print(\"단어 집합에서 희귀 단어의 비율:\", (rare_cnt / total_cnt)*100)\n",
        "print(\"전체 등장 빈도에서 희귀 단어 등장 빈도 비율:\", (rare_freq / total_freq)*100)"
      ],
      "metadata": {
        "colab": {
          "base_uri": "https://localhost:8080/"
        },
        "id": "K27egGh4rqcp",
        "outputId": "d34bf12d-06e1-47e2-8253-bcd1f6424a69"
      },
      "execution_count": null,
      "outputs": [
        {
          "output_type": "stream",
          "name": "stdout",
          "text": [
            "단어 집합(vocabulary)의 크기 : 107201\n",
            "등장 빈도가 1번 이하인 희귀 단어의 수: 53085\n",
            "단어 집합에서 희귀 단어의 비율: 49.519127620078166\n",
            "전체 등장 빈도에서 희귀 단어 등장 빈도 비율: 1.8461259177160274\n"
          ]
        }
      ]
    },
    {
      "cell_type": "code",
      "source": [
        "# 빈도수 2이하인 단어 제거하고 0 추가한 개수 = vocab_size\n",
        "vocab_size = total_cnt - rare_cnt + 1\n",
        "print('단어 집합의 크기 :',vocab_size)"
      ],
      "metadata": {
        "colab": {
          "base_uri": "https://localhost:8080/"
        },
        "id": "jQXbJm2fru-k",
        "outputId": "3b2ce7e9-84da-4bd0-c6b6-e4554964dfee"
      },
      "execution_count": null,
      "outputs": [
        {
          "output_type": "stream",
          "name": "stdout",
          "text": [
            "단어 집합의 크기 : 54117\n"
          ]
        }
      ]
    },
    {
      "cell_type": "code",
      "source": [
        "tokenizer = Tokenizer(num_words = vocab_size)\n",
        "tokenizer.fit_on_texts(text_token)\n",
        "\n",
        "X = tokenizer.texts_to_sequences(text_token)\n",
        "\n",
        "print('리뷰의 최대 길이 :',max(len(l) for l in X))\n",
        "print('리뷰의 최소 길이 :',min(len(l) for l in X))\n",
        "print('리뷰의 평균 길이 :',sum(map(len, X))/len(X))"
      ],
      "metadata": {
        "colab": {
          "base_uri": "https://localhost:8080/"
        },
        "id": "NaqTz5BPrwiF",
        "outputId": "2f6a2ec6-92e8-49b9-d024-9566816ed00b"
      },
      "execution_count": null,
      "outputs": [
        {
          "output_type": "stream",
          "name": "stdout",
          "text": [
            "리뷰의 최대 길이 : 618\n",
            "리뷰의 최소 길이 : 0\n",
            "리뷰의 평균 길이 : 11.383796298163603\n"
          ]
        }
      ]
    },
    {
      "cell_type": "code",
      "source": [
        "def below_threshold_len(max_len, nested_list):\n",
        "    cnt = 0\n",
        "    for s in nested_list:\n",
        "        if(len(s) <= max_len):\n",
        "            cnt = cnt + 1\n",
        "    print('전체 샘플 중 길이가 %s 이하인 샘플의 비율: %s'%(max_len, (cnt / len(nested_list))*100))\n",
        "\n",
        "max_len = 44\n",
        "below_threshold_len(max_len, X)\n",
        "\n",
        "plt.hist([len(review) for review in X], bins=50)\n",
        "plt.xlabel('length of samples')\n",
        "plt.ylabel('number of samples')\n",
        "plt.show()"
      ],
      "metadata": {
        "colab": {
          "base_uri": "https://localhost:8080/",
          "height": 467
        },
        "id": "bHjJwOi3ryKG",
        "outputId": "b71e34de-9de1-44fa-bd05-2e2d20b20e1e"
      },
      "execution_count": null,
      "outputs": [
        {
          "output_type": "stream",
          "name": "stdout",
          "text": [
            "전체 샘플 중 길이가 44 이하인 샘플의 비율: 98.70246157196962\n"
          ]
        },
        {
          "output_type": "display_data",
          "data": {
            "text/plain": [
              "<Figure size 640x480 with 1 Axes>"
            ],
            "image/png": "[encoded data removed]"
          },
          "metadata": {}
        }
      ]
    },
    {
      "cell_type": "code",
      "source": [
        "from tensorflow.keras.preprocessing.sequence import pad_sequences\n",
        "X = pad_sequences(X, maxlen = max_len)\n",
        "y = total_df['sentiment']\n"
      ],
      "metadata": {
        "id": "H6A1Rq1mrz9n"
      },
      "execution_count": null,
      "outputs": []
    },
    {
      "cell_type": "code",
      "source": [
        "# 워드클라우드 TEST\n",
        "from wordcloud import WordCloud\n",
        "import random\n",
        "import warnings\n",
        "warnings.filterwarnings(\"ignore\")\n",
        "\n",
        "FONT_PATH = '/content/drive/MyDrive/BMDOHYEON_ttf.ttf'\n",
        "\n",
        "pal = ['#303C55', '#E47F2D', '#FBB243', '#F9CA18', '#4F596E','#747B86']\n",
        "\n",
        "def color(word, font_size, position, orientation, random_state=None, **kwargs):\n",
        "    i = random.randint(0,5)\n",
        "    return pal[i]\n",
        "\n",
        "wc = WordCloud(font_path=FONT_PATH, background_color='white',\n",
        "              width=1600, height=800, color_func=color).generate_from_frequencies(tokenizer.word_counts)\n",
        "plt.figure(figsize=(10, 5))\n",
        "plt.imshow(wc)\n",
        "plt.tight_layout(pad=20)\n",
        "plt.axis('off')"
      ],
      "metadata": {
        "id": "JSHviVZCk91M"
      },
      "execution_count": null,
      "outputs": []
    },
    {
      "cell_type": "markdown",
      "source": [
        "# 모델링\n",
        "## LSTM\n"
      ],
      "metadata": {
        "id": "MJpnfpvBr19F"
      }
    },
    {
      "cell_type": "code",
      "source": [
        "from sklearn.model_selection import train_test_split\n",
        "\n",
        "X_train, X_test, y_train, y_test = train_test_split(X, y, test_size = 0.25, random_state = 42)\n",
        "X_train = np.array(X_train)\n",
        "X_test = np.array(X_test)\n",
        "\n",
        "\n",
        "# y_train, y_test의 클래스별 개수 계산\n",
        "train_class_counts = np.unique(y_train, return_counts=True)\n",
        "test_class_counts = np.unique(y_test, return_counts=True)\n",
        "\n",
        "print(\"Train Class Counts:\")\n",
        "print(train_class_counts)\n",
        "\n",
        "print(\"\\nTest Class Counts:\")\n",
        "print(test_class_counts)\n"
      ],
      "metadata": {
        "id": "1c_qYCePr3Wk"
      },
      "execution_count": null,
      "outputs": []
    },
    {
      "cell_type": "code",
      "source": [
        "from tensorflow.keras.layers import LSTM, Dropout\n",
        "\n",
        "with tf.device('/device:GPU:0'):\n",
        "  embedding_dim = 100\n",
        "  hidden_units = 128  # 노드 수를 줄임\n",
        "\n",
        "  model = Sequential()\n",
        "  model.add(Embedding(vocab_size, embedding_dim))\n",
        "  model.add(LSTM(hidden_units))\n",
        "  model.add(Dropout(0.5))  # 드롭아웃 추가\n",
        "  model.add(Dense(1, activation='sigmoid'))  # 클래스 개수에 맞게 수정\n",
        "\n",
        "  es = EarlyStopping(monitor='val_loss', mode='min', verbose=1, patience=4)\n",
        "  mc = ModelCheckpoint('best_model.h5', monitor='val_acc', mode='max', verbose=1, save_best_only=True)\n",
        "\n",
        "  model.compile(optimizer='rmsprop', loss='binary_crossentropy', metrics=['accuracy'])\n",
        "  history = model.fit(X_train, y_train, epochs=10, callbacks=[es, mc], batch_size=64, validation_split=0.2)\n",
        "\n",
        "model.save('/content/lstm_08.h5')\n"
      ],
      "metadata": {
        "id": "LwEp0LZHr7WZ",
        "colab": {
          "base_uri": "https://localhost:8080/"
        },
        "outputId": "853467ef-bfbd-4631-8c21-2359043a12e9"
      },
      "execution_count": null,
      "outputs": [
        {
          "output_type": "stream",
          "name": "stdout",
          "text": [
            "Epoch 1/10\n",
            "2325/2325 [==============================] - ETA: 0s - loss: 0.4144 - accuracy: 0.8058"
          ]
        },
        {
          "output_type": "stream",
          "name": "stderr",
          "text": [
            "WARNING:tensorflow:Can save best model only with val_acc available, skipping.\n"
          ]
        },
        {
          "output_type": "stream",
          "name": "stdout",
          "text": [
            "\b\b\b\b\b\b\b\b\b\b\b\b\b\b\b\b\b\b\b\b\b\b\b\b\b\b\b\b\b\b\b\b\b\b\b\b\b\b\b\b\b\b\b\b\b\b\b\b\b\b\b\b\b\b\b\b\b\b\b\b\b\b\b\b\b\b\b\b\b\b\b\b\b\b\b\b\b\b\b\b\b\b\b\b\b\b\r2325/2325 [==============================] - 80s 30ms/step - loss: 0.4144 - accuracy: 0.8058 - val_loss: 0.3686 - val_accuracy: 0.8328\n",
            "Epoch 2/10\n",
            "2325/2325 [==============================] - ETA: 0s - loss: 0.3397 - accuracy: 0.8525"
          ]
        },
        {
          "output_type": "stream",
          "name": "stderr",
          "text": [
            "WARNING:tensorflow:Can save best model only with val_acc available, skipping.\n"
          ]
        },
        {
          "output_type": "stream",
          "name": "stdout",
          "text": [
            "\b\b\b\b\b\b\b\b\b\b\b\b\b\b\b\b\b\b\b\b\b\b\b\b\b\b\b\b\b\b\b\b\b\b\b\b\b\b\b\b\b\b\b\b\b\b\b\b\b\b\b\b\b\b\b\b\b\b\b\b\b\b\b\b\b\b\b\b\b\b\b\b\b\b\b\b\b\b\b\b\b\b\b\b\b\b\r2325/2325 [==============================] - 23s 10ms/step - loss: 0.3397 - accuracy: 0.8525 - val_loss: 0.3587 - val_accuracy: 0.8421\n",
            "Epoch 3/10\n",
            "2325/2325 [==============================] - ETA: 0s - loss: 0.3061 - accuracy: 0.8714"
          ]
        },
        {
          "output_type": "stream",
          "name": "stderr",
          "text": [
            "WARNING:tensorflow:Can save best model only with val_acc available, skipping.\n"
          ]
        },
        {
          "output_type": "stream",
          "name": "stdout",
          "text": [
            "\b\b\b\b\b\b\b\b\b\b\b\b\b\b\b\b\b\b\b\b\b\b\b\b\b\b\b\b\b\b\b\b\b\b\b\b\b\b\b\b\b\b\b\b\b\b\b\b\b\b\b\b\b\b\b\b\b\b\b\b\b\b\b\b\b\b\b\b\b\b\b\b\b\b\b\b\b\b\b\b\b\b\b\b\b\b\r2325/2325 [==============================] - 19s 8ms/step - loss: 0.3061 - accuracy: 0.8714 - val_loss: 0.3447 - val_accuracy: 0.8489\n",
            "Epoch 4/10\n",
            "2325/2325 [==============================] - ETA: 0s - loss: 0.2749 - accuracy: 0.8888"
          ]
        },
        {
          "output_type": "stream",
          "name": "stderr",
          "text": [
            "WARNING:tensorflow:Can save best model only with val_acc available, skipping.\n"
          ]
        },
        {
          "output_type": "stream",
          "name": "stdout",
          "text": [
            "\b\b\b\b\b\b\b\b\b\b\b\b\b\b\b\b\b\b\b\b\b\b\b\b\b\b\b\b\b\b\b\b\b\b\b\b\b\b\b\b\b\b\b\b\b\b\b\b\b\b\b\b\b\b\b\b\b\b\b\b\b\b\b\b\b\b\b\b\b\b\b\b\b\b\b\b\b\b\b\b\b\b\b\b\b\b\r2325/2325 [==============================] - 18s 8ms/step - loss: 0.2749 - accuracy: 0.8888 - val_loss: 0.3461 - val_accuracy: 0.8498\n",
            "Epoch 5/10\n",
            "2325/2325 [==============================] - ETA: 0s - loss: 0.2469 - accuracy: 0.9034"
          ]
        },
        {
          "output_type": "stream",
          "name": "stderr",
          "text": [
            "WARNING:tensorflow:Can save best model only with val_acc available, skipping.\n"
          ]
        },
        {
          "output_type": "stream",
          "name": "stdout",
          "text": [
            "\b\b\b\b\b\b\b\b\b\b\b\b\b\b\b\b\b\b\b\b\b\b\b\b\b\b\b\b\b\b\b\b\b\b\b\b\b\b\b\b\b\b\b\b\b\b\b\b\b\b\b\b\b\b\b\b\b\b\b\b\b\b\b\b\b\b\b\b\b\b\b\b\b\b\b\b\b\b\b\b\b\b\b\b\b\b\r2325/2325 [==============================] - 20s 9ms/step - loss: 0.2469 - accuracy: 0.9034 - val_loss: 0.3615 - val_accuracy: 0.8510\n",
            "Epoch 6/10\n",
            "2317/2325 [============================>.] - ETA: 0s - loss: 0.2212 - accuracy: 0.9159"
          ]
        },
        {
          "output_type": "stream",
          "name": "stderr",
          "text": [
            "WARNING:tensorflow:Can save best model only with val_acc available, skipping.\n"
          ]
        },
        {
          "output_type": "stream",
          "name": "stdout",
          "text": [
            "\b\b\b\b\b\b\b\b\b\b\b\b\b\b\b\b\b\b\b\b\b\b\b\b\b\b\b\b\b\b\b\b\b\b\b\b\b\b\b\b\b\b\b\b\b\b\b\b\b\b\b\b\b\b\b\b\b\b\b\b\b\b\b\b\b\b\b\b\b\b\b\b\b\b\b\b\b\b\b\b\b\b\b\b\b\b\r2325/2325 [==============================] - 18s 8ms/step - loss: 0.2213 - accuracy: 0.9158 - val_loss: 0.3563 - val_accuracy: 0.8495\n",
            "Epoch 7/10\n",
            "2325/2325 [==============================] - ETA: 0s - loss: 0.1993 - accuracy: 0.9257"
          ]
        },
        {
          "output_type": "stream",
          "name": "stderr",
          "text": [
            "WARNING:tensorflow:Can save best model only with val_acc available, skipping.\n"
          ]
        },
        {
          "output_type": "stream",
          "name": "stdout",
          "text": [
            "\b\b\b\b\b\b\b\b\b\b\b\b\b\b\b\b\b\b\b\b\b\b\b\b\b\b\b\b\b\b\b\b\b\b\b\b\b\b\b\b\b\b\b\b\b\b\b\b\b\b\b\b\b\b\b\b\b\b\b\b\b\b\b\b\b\b\b\b\b\b\b\b\b\b\b\b\b\b\b\b\b\b\b\b\b\b\r2325/2325 [==============================] - 20s 8ms/step - loss: 0.1993 - accuracy: 0.9257 - val_loss: 0.3952 - val_accuracy: 0.8464\n",
            "Epoch 7: early stopping\n"
          ]
        }
      ]
    },
    {
      "cell_type": "code",
      "source": [
        "loaded_model = load_model('/content/lstm_08.h5')\n",
        "print(\"\\n 테스트 정확도: %.4f\" % (loaded_model.evaluate(X_test, y_test)[1]))"
      ],
      "metadata": {
        "colab": {
          "base_uri": "https://localhost:8080/"
        },
        "id": "Pvf6YhfZwjBh",
        "outputId": "d729fc88-6042-45da-d4fc-a8021622a0d9"
      },
      "execution_count": null,
      "outputs": [
        {
          "output_type": "stream",
          "name": "stdout",
          "text": [
            "1937/1937 [==============================] - 9s 4ms/step - loss: 0.3911 - accuracy: 0.8461\n",
            "\n",
            " 테스트 정확도: 0.8461\n"
          ]
        }
      ]
    },
    {
      "cell_type": "code",
      "source": [
        "import pickle"
      ],
      "metadata": {
        "id": "BEqTucVffqOV"
      },
      "execution_count": null,
      "outputs": []
    },
    {
      "cell_type": "code",
      "source": [
        "# 토크나이저 저장\n",
        "file_path = '/content/drive/MyDrive/tokenizer3.pickle'\n",
        "\n",
        "with open(file_path, 'wb') as handle:\n",
        "    pickle.dump(tokenizer, handle, protocol=pickle.HIGHEST_PROTOCOL)"
      ],
      "metadata": {
        "id": "74RaY-VRxxLz"
      },
      "execution_count": null,
      "outputs": []
    },
    {
      "cell_type": "code",
      "source": [
        "tokenizer_pickle_path = \"/content/drive/MyDrive/tokenizer.pickle\"\n",
        "with open(tokenizer_pickle_path, \"rb\") as f:\n",
        "    tokenizer = pickle.load(f)"
      ],
      "metadata": {
        "id": "kXzqKEIqffPV"
      },
      "execution_count": null,
      "outputs": []
    },
    {
      "cell_type": "code",
      "source": [
        "import re\n",
        "\n",
        "\n",
        "def test(comment):\n",
        "  comment = re.sub(r'[^ㄱ-ㅎㅏ-ㅣ가-힣 ]','', comment)\n",
        "  tmp = twi.morphs(comment,stem=True,norm=True)  #토큰화\n",
        "  tmp = [word for word in tmp if not word in stopwords]  #불용어 제거\n",
        "  encoded = tokenizer.texts_to_sequences([tmp])\n",
        "  pad_new = pad_sequences(encoded, maxlen = max_len)\n",
        "  score = float(loaded_model.predict(pad_new))\n",
        "\n",
        "  print(tmp)\n",
        "  print(encoded)\n",
        "  print(pad_new)\n",
        "\n",
        "  return score\n",
        "\n",
        "\n",
        "test('올랜님 진짜 영상편집에 공들이신게 보이네 멤버별 각각 소리 키우고 줄이고 노래 다시 ...\t')\n"
      ],
      "metadata": {
        "id": "TSrVQrSSxBz3",
        "colab": {
          "base_uri": "https://localhost:8080/"
        },
        "outputId": "07da5c41-3469-4ec3-b466-e5c93e4a9711"
      },
      "execution_count": null,
      "outputs": [
        {
          "output_type": "stream",
          "name": "stdout",
          "text": [
            "1/1 [==============================] - 0s 69ms/step\n",
            "['올', '랜', '님', '진짜', '영상편집', '공', '들', '이신', '보이', '네', '멤버', '별', '각각', '소리', '키우다', '줄', '노래', '다시']\n",
            "[[493, 26207, 79, 5, 29400, 1172, 3, 3851, 361, 33, 1756, 164, 4120, 390, 53802, 182, 80, 76]]\n",
            "[[    0     0     0     0     0     0     0     0     0     0     0     0\n",
            "      0     0     0     0     0     0     0     0     0     0     0     0\n",
            "      0     0   493 26207    79     5 29400  1172     3  3851   361    33\n",
            "   1756   164  4120   390 53802   182    80    76]]\n"
          ]
        },
        {
          "output_type": "execute_result",
          "data": {
            "text/plain": [
              "0.9935697317123413"
            ]
          },
          "metadata": {},
          "execution_count": 89
        }
      ]
    },
    {
      "cell_type": "code",
      "source": [
        "# 6 훈련 과정 시각화 (정확도)\n",
        "plt.plot(history.history['accuracy'])\n",
        "plt.plot(history.history['val_accuracy'])\n",
        "plt.title('Model accuracy')\n",
        "plt.xlabel('Epoch')\n",
        "plt.ylabel('Accuracy')\n",
        "plt.legend(['Train', 'Test'], loc='upper left')\n",
        "plt.show()"
      ],
      "metadata": {
        "id": "9PJRv_d_yM87"
      },
      "execution_count": null,
      "outputs": []
    },
    {
      "cell_type": "code",
      "source": [
        "plt.plot(history.history['loss'])\n",
        "plt.plot(history.history['val_loss'])\n",
        "plt.title('Model loss')\n",
        "plt.xlabel('Epoch')\n",
        "plt.ylabel('Loss')\n",
        "plt.legend(['Train', 'Test'], loc='upper left')\n",
        "plt.show()"
      ],
      "metadata": {
        "id": "wn-HdbvEySTv"
      },
      "execution_count": null,
      "outputs": []
    },
    {
      "cell_type": "code",
      "source": [
        "total_df['sentiment'].value_counts().plot(kind='bar')"
      ],
      "metadata": {
        "id": "DBGxQsnw0_lK"
      },
      "execution_count": null,
      "outputs": []
    },
    {
      "cell_type": "code",
      "source": [
        "youtube_df = pd.read_csv('/content/측정비교.csv')\n",
        "youtube_df = youtube_df[['comment','score','sentiment']]"
      ],
      "metadata": {
        "id": "pkFfXD-BVI2z"
      },
      "execution_count": null,
      "outputs": []
    },
    {
      "cell_type": "code",
      "source": [
        "youtube_df.dropna(how='any', inplace=True)  #null 값 제거\n",
        "youtube_df.drop_duplicates(subset = ['comment'], inplace=True) #중복된 행 제거"
      ],
      "metadata": {
        "id": "kh5AEU2WWA-v"
      },
      "execution_count": null,
      "outputs": []
    },
    {
      "cell_type": "code",
      "source": [
        "df = youtube_df.sample(10)"
      ],
      "metadata": {
        "id": "4Oa34gVzYqjG"
      },
      "execution_count": null,
      "outputs": []
    },
    {
      "cell_type": "code",
      "source": [
        "youtube_df['lstm_score'] = youtube_df['comment'].apply(test)"
      ],
      "metadata": {
        "id": "2LGvxm7NVTEP"
      },
      "execution_count": null,
      "outputs": []
    },
    {
      "cell_type": "code",
      "source": [
        "youtube_df['Bi_attention_score'] = youtube_df['comment'].apply(attention_bilstm)"
      ],
      "metadata": {
        "id": "aN_8zSxpzN5Q"
      },
      "execution_count": null,
      "outputs": []
    },
    {
      "cell_type": "code",
      "source": [
        "youtube_df.to_csv('score_비교.csv', index=False, encoding='utf-8-sig')"
      ],
      "metadata": {
        "id": "JcVwUkAJ06JD"
      },
      "execution_count": null,
      "outputs": []
    },
    {
      "cell_type": "markdown",
      "source": [
        "# BiLSTM"
      ],
      "metadata": {
        "id": "io1WespxORXr"
      }
    },
    {
      "cell_type": "code",
      "source": [
        "# bilstm 양방향\n",
        "with tf.device('/device:GPU:0'):\n",
        "  embedding_dim = 100\n",
        "  hidden_units = 64\n",
        "\n",
        "  model = Sequential()\n",
        "  model.add(Embedding(vocab_size, embedding_dim))\n",
        "  model.add(Bidirectional(LSTM(hidden_units))) # Bidirectional LSTM을 사용\n",
        "  model.add(Dropout(0.6))  # 드롭아웃 추가\n",
        "  model.add(Dense(1, activation='sigmoid'))\n",
        "\n",
        "  es = EarlyStopping(monitor='val_loss', mode='min', verbose=1, patience=4)\n",
        "  mc = ModelCheckpoint('best_model.h5', monitor='val_acc', mode='max', verbose=1, save_best_only=True)\n",
        "\n",
        "  model.compile(optimizer='rmsprop', loss='binary_crossentropy', metrics=['acc'])\n",
        "  history = model.fit(X_train, y_train, epochs=15, callbacks=[es, mc], batch_size=128, validation_split=0.2)\n",
        "\n",
        "model.save('/content/best_model_0726_2.h5')\n"
      ],
      "metadata": {
        "id": "ala5AA02OHjR"
      },
      "execution_count": null,
      "outputs": []
    },
    {
      "cell_type": "code",
      "source": [
        "loaded_model = load_model('best_model_0726_2.h5')\n",
        "print(\"\\n 테스트 정확도: %.4f\" % (loaded_model.evaluate(X_test, y_test)[1]))"
      ],
      "metadata": {
        "colab": {
          "base_uri": "https://localhost:8080/"
        },
        "id": "kzhqwGomXGBg",
        "outputId": "603a20ec-a04a-4963-d0c2-765c0c1963b2"
      },
      "execution_count": null,
      "outputs": [
        {
          "output_type": "stream",
          "name": "stdout",
          "text": [
            "1789/1789 [==============================] - 10s 5ms/step - loss: 0.3650 - acc: 0.8497\n",
            "\n",
            " 테스트 정확도: 0.8497\n"
          ]
        }
      ]
    },
    {
      "cell_type": "code",
      "source": [
        "import re\n",
        "\n",
        "max_len = 42\n",
        "\n",
        "def test(new_sentence):\n",
        "  new_sentence = re.sub(r'[^ㄱ-ㅎㅏ-ㅣ가-힣 ]','', new_sentence)\n",
        "  tmp = twi.morphs(new_sentence)  #토큰화\n",
        "  tmp = [word for word in tmp if not word in stopwords]  #불용어 제거\n",
        "  encoded = tokenizer.texts_to_sequences([tmp])\n",
        "  pad_new = pad_sequences(encoded, maxlen = max_len)\n",
        "  score = float(model.predict(pad_new))\n",
        "\n",
        "  print(tmp)\n",
        "  print(encoded)\n",
        "  print(pad_new)\n",
        "  print(score)\n",
        "\n",
        "test('와 화음 진짜 미쳤다. 진짜 황홀하네요')"
      ],
      "metadata": {
        "colab": {
          "base_uri": "https://localhost:8080/"
        },
        "id": "SrSGbhJWZXR4",
        "outputId": "9ba7a142-3134-4037-89a5-a3978f5263b8"
      },
      "execution_count": null,
      "outputs": [
        {
          "output_type": "stream",
          "name": "stdout",
          "text": [
            "1/1 [==============================] - 13s 13s/step\n",
            "['와', '화음', '진짜', '미쳤다', '진짜', '황홀', '하네요']\n",
            "[[49, 5293, 9, 9, 4589]]\n",
            "[[   0    0    0    0    0    0    0    0    0    0    0    0    0    0\n",
            "     0    0    0    0    0    0    0    0    0    0    0    0    0    0\n",
            "     0    0    0    0    0    0    0    0    0   49 5293    9    9 4589]]\n",
            "0.999693751335144\n"
          ]
        }
      ]
    },
    {
      "cell_type": "markdown",
      "source": [
        "### 맞춤법 전처리\n",
        "* 맞춤법에 따라 점수가 크게 차이난다.. '황올하내' 라는 문장은 사실 황홀하다 라는 표현 일텐데 부정적으로 판단하게된다..\n",
        "*  아래의 한스펠로 맞춤법이나 오타를 어느정도 고칠 수 있다, 되는것도 있고 안되는것도 있는것 같다.\n",
        "\n",
        "* 한스펠을 이용한 경우, 위의 경우는 여전히 '황올하내' 그대로 내뱉는다. 그래도.. 안하는것보다 나으려나? 그래도 띄어쓰기는 어느정도 잘 잡는것 같다.\n",
        "\n",
        "> 18문장을 전부 처리하기에는 너무 오래걸린다..\n"
      ],
      "metadata": {
        "id": "tSEPvd7Shfeb"
      }
    },
    {
      "cell_type": "code",
      "source": [
        "# 맞춤법 추가\n",
        "!pip install git+https://github.com/ssut/py-hanspell.git\n"
      ],
      "metadata": {
        "id": "SpBzVNtXhCDX",
        "colab": {
          "base_uri": "https://localhost:8080/"
        },
        "outputId": "2bc636ae-8366-454a-bbad-ecbb0cac0901"
      },
      "execution_count": null,
      "outputs": [
        {
          "output_type": "stream",
          "name": "stdout",
          "text": [
            "Collecting git+https://github.com/ssut/py-hanspell.git\n",
            "  Cloning https://github.com/ssut/py-hanspell.git to /tmp/pip-req-build-v2ntf8st\n",
            "  Running command git clone --filter=blob:none --quiet https://github.com/ssut/py-hanspell.git /tmp/pip-req-build-v2ntf8st\n",
            "  Resolved https://github.com/ssut/py-hanspell.git to commit fdc6ca50c19f1c85971437a072d89d4e5ce024b8\n",
            "  Preparing metadata (setup.py) ... \u001b[?25l\u001b[?25hdone\n",
            "Requirement already satisfied: requests in /usr/local/lib/python3.10/dist-packages (from py-hanspell==1.1) (2.27.1)\n",
            "Requirement already satisfied: urllib3<1.27,>=1.21.1 in /usr/local/lib/python3.10/dist-packages (from requests->py-hanspell==1.1) (1.26.16)\n",
            "Requirement already satisfied: certifi>=2017.4.17 in /usr/local/lib/python3.10/dist-packages (from requests->py-hanspell==1.1) (2023.7.22)\n",
            "Requirement already satisfied: charset-normalizer~=2.0.0 in /usr/local/lib/python3.10/dist-packages (from requests->py-hanspell==1.1) (2.0.12)\n",
            "Requirement already satisfied: idna<4,>=2.5 in /usr/local/lib/python3.10/dist-packages (from requests->py-hanspell==1.1) (3.4)\n",
            "Building wheels for collected packages: py-hanspell\n",
            "  Building wheel for py-hanspell (setup.py) ... \u001b[?25l\u001b[?25hdone\n",
            "  Created wheel for py-hanspell: filename=py_hanspell-1.1-py3-none-any.whl size=4810 sha256=df53ef916f2d68a7cd7eb949f0b1c2aac967ceae1eaf39c981d75e19093e1115\n",
            "  Stored in directory: /tmp/pip-ephem-wheel-cache-jyqclr0r/wheels/2e/43/cc/753c9e1d91affb9ea40e186cea5654fb9231deb454da6724e5\n",
            "Successfully built py-hanspell\n",
            "Installing collected packages: py-hanspell\n",
            "Successfully installed py-hanspell-1.1\n"
          ]
        }
      ]
    },
    {
      "cell_type": "code",
      "source": [
        "from hanspell import spell_checker\n",
        "\n",
        "sent = \"귀차나\"\n",
        "spelled_sent = spell_checker.check(sent)\n",
        "\n",
        "hanspell_sent = spelled_sent.checked\n",
        "print(hanspell_sent)"
      ],
      "metadata": {
        "colab": {
          "base_uri": "https://localhost:8080/"
        },
        "id": "CWbl00SShWOf",
        "outputId": "e17fb1d5-5f68-4aff-e1de-fbfe4618f473"
      },
      "execution_count": null,
      "outputs": [
        {
          "output_type": "stream",
          "name": "stdout",
          "text": [
            "귀찮아\n"
          ]
        }
      ]
    },
    {
      "cell_type": "markdown",
      "source": [
        "# ATTENTION + bilstm"
      ],
      "metadata": {
        "id": "DBAOsR2Zav4X"
      }
    },
    {
      "cell_type": "code",
      "source": [
        "import tensorflow as tf\n",
        "class Attention(tf.keras.Model):\n",
        "    def __init__(self, units):\n",
        "        super(Attention, self).__init__()\n",
        "        self.W1 = tf.keras.layers.Dense(units)\n",
        "        self.W2 = tf.keras.layers.Dense(units)\n",
        "        self.V = tf.keras.layers.Dense(1)\n",
        "\n",
        "    def call(self, features, hidden):\n",
        "\n",
        "        hidden_with_time_axis = tf.expand_dims(hidden, 1)\n",
        "\n",
        "        score = tf.nn.tanh(\n",
        "            self.W1(features) + self.W2(hidden_with_time_axis))\n",
        "\n",
        "        # attention_weights shape == (batch_size, max_length, 1)\n",
        "        attention_weights = tf.nn.softmax(self.V(score), axis=1)\n",
        "\n",
        "        # context_vector shape after sum == (batch_size, hidden_size)\n",
        "        context_vector = attention_weights * features\n",
        "        context_vector = tf.reduce_sum(context_vector, axis=1)\n",
        "\n",
        "        return context_vector, attention_weights"
      ],
      "metadata": {
        "id": "UXS4LPhUa1QR"
      },
      "execution_count": null,
      "outputs": []
    },
    {
      "cell_type": "code",
      "source": [
        "embedding_dim = 128\n",
        "hidden_units = 32"
      ],
      "metadata": {
        "id": "qlKu-8jkcK2d"
      },
      "execution_count": null,
      "outputs": []
    },
    {
      "cell_type": "code",
      "source": [
        "sequence_input = Input(shape=(max_len,), dtype=\"int32\")\n",
        "embedded_sequences = Embedding(vocab_size, embedding_dim)(sequence_input)"
      ],
      "metadata": {
        "id": "rcNAhgKSa2u3"
      },
      "execution_count": null,
      "outputs": []
    },
    {
      "cell_type": "code",
      "source": [
        "lstm = Bidirectional(LSTM(hidden_units, return_sequences = True), name=\"bi_lstm_0\")(embedded_sequences)\n",
        "\n",
        "# Getting our LSTM outputs\n",
        "(lstm, forward_h, forward_c, backward_h, backward_c) = Bidirectional(LSTM(hidden_units, return_sequences=True, return_state=True), name=\"bi_lstm_1\")(lstm)"
      ],
      "metadata": {
        "id": "5w2WkTmsbSyH"
      },
      "execution_count": null,
      "outputs": []
    },
    {
      "cell_type": "code",
      "source": [
        "import tensorflow.keras as keras\n",
        "\n",
        "state_h = Concatenate()([forward_h, backward_h])\n",
        "state_c = Concatenate()([forward_c, backward_c])\n",
        "\n",
        "context_vector, attention_weights = Attention(10)(lstm, state_h)\n",
        "\n",
        "# Removal of the globalMaxPool1D could be trouble\n",
        "# globmax = GlobalMaxPool1D()(context_vector)\n",
        "dense1 = Dense(20, activation=\"relu\")(context_vector)\n",
        "dropout = Dropout(0.4)(dense1)\n",
        "output = Dense(1, activation=\"sigmoid\")(dropout)\n",
        "\n",
        "model = keras.Model(inputs=sequence_input, outputs=output)"
      ],
      "metadata": {
        "id": "KvSlG5tabkKo"
      },
      "execution_count": null,
      "outputs": []
    },
    {
      "cell_type": "code",
      "source": [
        "print(model.summary())"
      ],
      "metadata": {
        "id": "byN48PdEb3TK"
      },
      "execution_count": null,
      "outputs": []
    },
    {
      "cell_type": "code",
      "source": [],
      "metadata": {
        "id": "3qKeF1eb2sa0"
      },
      "execution_count": null,
      "outputs": []
    },
    {
      "cell_type": "markdown",
      "source": [
        "# model visualize"
      ],
      "metadata": {
        "id": "5zcsyBwuARjr"
      }
    },
    {
      "cell_type": "code",
      "source": [
        "keras.utils.plot_model(model, show_shapes=True, dpi=90) # 시각화"
      ],
      "metadata": {
        "id": "IeHIuiTOcn5g"
      },
      "execution_count": null,
      "outputs": []
    },
    {
      "cell_type": "code",
      "source": [
        "\n",
        "with tf.device('/device:GPU:0'):\n",
        "  es = EarlyStopping(monitor='val_loss', mode='min', verbose=1, patience=4)\n",
        "  model.compile(loss='binary_crossentropy', optimizer='adam', metrics=METRICS)\n",
        "  BATCH_SIZE = 128\n",
        "  EPOCHS = 15\n",
        "  history = model.fit(X_train,y_train,\n",
        "                      batch_size=BATCH_SIZE,\n",
        "                      epochs=EPOCHS,\n",
        "                      callbacks= es,\n",
        "                      validation_split=0.2)\n",
        "\n",
        "model.save('/content/bi_attention.h5')\n"
      ],
      "metadata": {
        "colab": {
          "base_uri": "https://localhost:8080/"
        },
        "id": "fwtBl5IAc970",
        "outputId": "1fbde343-ccb1-401f-d6eb-0e57cf25d0e5"
      },
      "execution_count": null,
      "outputs": [
        {
          "output_type": "stream",
          "name": "stdout",
          "text": [
            "Epoch 1/15\n",
            "1074/1074 [==============================] - 101s 73ms/step - loss: 0.4035 - tp: 79766.0000 - fp: 16576.0000 - tn: 60788.0000 - fn: 14583.0000 - accuracy: 0.8185 - precision: 0.8279 - recall: 0.8454 - auc: 0.8875 - val_loss: 0.3451 - val_tp: 16366.0000 - val_fp: 2766.0000 - val_tn: 12716.0000 - val_fn: 2495.0000 - val_accuracy: 0.8468 - val_precision: 0.8554 - val_recall: 0.8677 - val_auc: 0.9257\n",
            "Epoch 2/15\n",
            "1074/1074 [==============================] - 31s 29ms/step - loss: 0.3017 - tp: 66427.0000 - fp: 8517.0000 - tn: 53365.0000 - fn: 9061.0000 - accuracy: 0.8720 - precision: 0.8864 - recall: 0.8800 - auc: 0.9444 - val_loss: 0.3502 - val_tp: 16129.0000 - val_fp: 2456.0000 - val_tn: 13026.0000 - val_fn: 2732.0000 - val_accuracy: 0.8489 - val_precision: 0.8679 - val_recall: 0.8552 - val_auc: 0.9271\n",
            "Epoch 3/15\n",
            "1074/1074 [==============================] - 28s 26ms/step - loss: 0.2492 - tp: 67950.0000 - fp: 6722.0000 - tn: 55160.0000 - fn: 7538.0000 - accuracy: 0.8962 - precision: 0.9100 - recall: 0.9001 - auc: 0.9622 - val_loss: 0.3820 - val_tp: 16177.0000 - val_fp: 2496.0000 - val_tn: 12986.0000 - val_fn: 2684.0000 - val_accuracy: 0.8492 - val_precision: 0.8663 - val_recall: 0.8577 - val_auc: 0.9234\n",
            "Epoch 4/15\n",
            "1074/1074 [==============================] - 26s 24ms/step - loss: 0.2039 - tp: 69433.0000 - fp: 5258.0000 - tn: 56624.0000 - fn: 6055.0000 - accuracy: 0.9176 - precision: 0.9296 - recall: 0.9198 - auc: 0.9746 - val_loss: 0.4369 - val_tp: 16072.0000 - val_fp: 2450.0000 - val_tn: 13032.0000 - val_fn: 2789.0000 - val_accuracy: 0.8475 - val_precision: 0.8677 - val_recall: 0.8521 - val_auc: 0.9179\n",
            "Epoch 5/15\n",
            "1074/1074 [==============================] - 23s 22ms/step - loss: 0.1633 - tp: 70894.0000 - fp: 4097.0000 - tn: 57785.0000 - fn: 4594.0000 - accuracy: 0.9367 - precision: 0.9454 - recall: 0.9391 - auc: 0.9834 - val_loss: 0.5071 - val_tp: 16154.0000 - val_fp: 2764.0000 - val_tn: 12718.0000 - val_fn: 2707.0000 - val_accuracy: 0.8407 - val_precision: 0.8539 - val_recall: 0.8565 - val_auc: 0.9079\n",
            "Epoch 5: early stopping\n"
          ]
        }
      ]
    },
    {
      "cell_type": "code",
      "source": [
        "loaded_model = tf.keras.models.load_model('/content/bi_attention_2.h5', custom_objects={'BahdanauAttention': BahdanauAttention})\n"
      ],
      "metadata": {
        "id": "AUswpyyHjJU-"
      },
      "execution_count": null,
      "outputs": []
    },
    {
      "cell_type": "code",
      "source": [
        "print(\"\\n 테스트 정확도: %.4f\" % (model.evaluate(X_test, y_test)[1]))\n"
      ],
      "metadata": {
        "colab": {
          "base_uri": "https://localhost:8080/"
        },
        "id": "m-XB8_a1iItF",
        "outputId": "ae50df91-1a66-43fa-ce74-36e0cf51c79e"
      },
      "execution_count": null,
      "outputs": [
        {
          "output_type": "stream",
          "name": "stdout",
          "text": [
            "1803/1803 [==============================] - 89s 49ms/step - loss: 0.3606 - accuracy: 0.8506\n",
            "\n",
            " 테스트 정확도: 0.8506\n"
          ]
        }
      ]
    },
    {
      "cell_type": "code",
      "source": [
        "import matplotlib as mpl\n",
        "\n",
        "\n",
        "colors = plt.rcParams[\"axes.prop_cycle\"].by_key()[\"color\"]\n",
        "mpl.rcParams[\"figure.figsize\"] = (12, 18)\n",
        "\n",
        "def plot_metrics(history):\n",
        "    metrics = [\n",
        "        \"loss\",\n",
        "        \"tp\", \"fp\", \"tn\", \"fn\",\n",
        "        \"accuracy\",\n",
        "        \"precision\", \"recall\",\n",
        "        \"auc\",\n",
        "    ]\n",
        "    for n, metric in enumerate(metrics):\n",
        "        name = metric.replace(\"_\", \" \").capitalize()\n",
        "        plt.subplot(5, 2, n + 1)\n",
        "        plt.plot(\n",
        "            history.epoch,\n",
        "            history.history[metric],\n",
        "            color=colors[0],\n",
        "            label=\"Train\",\n",
        "        )\n",
        "        plt.plot(\n",
        "            history.epoch,\n",
        "            history.history[\"val_\" + metric],\n",
        "            color=colors[1],\n",
        "            linestyle=\"--\",\n",
        "            label=\"Val\",\n",
        "        )\n",
        "        plt.xlabel(\"Epoch\")\n",
        "        plt.ylabel(name)\n",
        "        if metric == \"loss\":\n",
        "            plt.ylim([0, plt.ylim()[1] * 1.2])\n",
        "        elif metric == \"accuracy\":\n",
        "            plt.ylim([0.4, 1])\n",
        "        elif metric == \"fn\":\n",
        "            plt.ylim([0, plt.ylim()[1]])\n",
        "        elif metric == \"fp\":\n",
        "            plt.ylim([0, plt.ylim()[1]])\n",
        "        elif metric == \"tn\":\n",
        "            plt.ylim([0, plt.ylim()[1]])\n",
        "        elif metric == \"tp\":\n",
        "            plt.ylim([0, plt.ylim()[1]])\n",
        "        elif metric == \"precision\":\n",
        "            plt.ylim([0, 1])\n",
        "        elif metric == \"recall\":\n",
        "            plt.ylim([0.4, 1])\n",
        "        else:\n",
        "            plt.ylim([0, 1])\n",
        "\n",
        "        plt.legend()\n",
        "\n",
        "plot_metrics(history)"
      ],
      "metadata": {
        "colab": {
          "base_uri": "https://localhost:8080/",
          "height": 1000
        },
        "id": "EjLZAjsPdATO",
        "outputId": "920d0767-f03e-4e02-ad94-110b663bbdcf"
      },
      "execution_count": null,
      "outputs": [
        {
          "output_type": "display_data",
          "data": {
            "text/plain": [
              "<Figure size 1200x1800 with 9 Axes>"
            ],
            "image/png": "[encoded data removed]"
          },
          "metadata": {}
        }
      ]
    },
    {
      "cell_type": "code",
      "source": [
        "max_len = 45"
      ],
      "metadata": {
        "id": "-MfdZqBZbQpO"
      },
      "execution_count": null,
      "outputs": []
    },
    {
      "cell_type": "code",
      "source": [
        "\n",
        "def test_attention_model(loaded_model, tokenizer, new_sentence, max_len):\n",
        "    # 토큰화와 불용어 제거 없이 원본 문장 유지\n",
        "    new_sentence = re.sub(r'[^ㄱ-ㅎㅏ-ㅣ가-힣 ]', '', new_sentence)\n",
        "    tmp = twi.morphs(new_sentence)  # 토큰화\n",
        "    tmp = [word for word in tmp if not word in stopwords]  # 불용어 제거\n",
        "    encoded = tokenizer.texts_to_sequences([tmp])\n",
        "    pad_new = pad_sequences(encoded, maxlen=max_len)\n",
        "    attention_weights = loaded_model.predict(pad_new)[0]\n",
        "\n",
        "    print(tmp)\n",
        "    print(attention_weights)\n",
        "\n",
        "new_sentence = '시작부터 귀엽네 ㅋㅋㅋ'\n",
        "test_attention_model(loaded_model, tokenizer, new_sentence, max_len)\n"
      ],
      "metadata": {
        "colab": {
          "base_uri": "https://localhost:8080/"
        },
        "id": "PtxnkJ6ChzZO",
        "outputId": "c89cd82f-d080-4071-a779-356826f5ba4e"
      },
      "execution_count": null,
      "outputs": [
        {
          "output_type": "stream",
          "name": "stdout",
          "text": [
            "1/1 [==============================] - 0s 24ms/step\n",
            "['시작', '부터', '귀엽네', 'ㅋㅋㅋ']\n",
            "[0.76274025]\n"
          ]
        }
      ]
    },
    {
      "cell_type": "code",
      "source": [
        "def test(new_sentence):\n",
        "  new_sentence = re.sub(r'[^ㄱ-ㅎㅏ-ㅣ가-힣 ]','', new_sentence)\n",
        "  tmp = twi.morphs(new_sentence)  #토큰화\n",
        "  tmp = [word for word in tmp if not word in stopwords]  #불용어 제거\n",
        "  encoded = tokenizer.texts_to_sequences([tmp])\n",
        "  pad_new = pad_sequences(encoded, maxlen = 45)\n",
        "  score = float(loaded_model.predict(pad_new))\n",
        "\n",
        "  print(tmp)\n",
        "  # # print(new_sentence)\n",
        "  print(encoded)\n",
        "  print(pad_new)\n",
        "  print(score)\n",
        "\n",
        "test('와 화음 진짜 미쳤다 진짜 황홀하내')\n"
      ],
      "metadata": {
        "colab": {
          "base_uri": "https://localhost:8080/"
        },
        "id": "-jEl4G6Qk_Yi",
        "outputId": "81345fbc-0577-4faa-987d-fe5b0ded1825"
      },
      "execution_count": null,
      "outputs": [
        {
          "output_type": "stream",
          "name": "stdout",
          "text": [
            "1/1 [==============================] - 0s 63ms/step\n",
            "['와', '화음', '진짜', '미쳤다', '진짜', '황홀', '하내']\n",
            "[[48, 5199, 9, 9, 4516, 5297]]\n",
            "[[   0    0    0    0    0    0    0    0    0    0    0    0    0    0\n",
            "     0    0    0    0    0    0    0    0    0    0    0    0    0    0\n",
            "     0    0    0    0    0    0    0    0    0    0    0   48 5199    9\n",
            "     9 4516 5297]]\n",
            "0.9130785465240479\n"
          ]
        }
      ]
    },
    {
      "cell_type": "markdown",
      "source": [
        "# attention(BahdanauAttention) + Bilstm"
      ],
      "metadata": {
        "id": "cD2CV-QWAPBj"
      }
    },
    {
      "cell_type": "code",
      "source": [
        "class BahdanauAttention(tf.keras.Model):\n",
        "  def __init__(self, units):\n",
        "    super(BahdanauAttention, self).__init__()\n",
        "    self.W1 = Dense(units)\n",
        "    self.W2 = Dense(units)\n",
        "    self.V = Dense(1)\n",
        "\n",
        "  def call(self, values, query): # 단, key와 value는 같음\n",
        "    # query shape == (batch_size, hidden size)\n",
        "    # hidden_with_time_axis shape == (batch_size, 1, hidden size)\n",
        "    # score 계산을 위해 뒤에서 할 덧셈을 위해서 차원을 변경해줍니다.\n",
        "    hidden_with_time_axis = tf.expand_dims(query, 1)\n",
        "\n",
        "    # score shape == (batch_size, max_length, 1)\n",
        "    # we get 1 at the last axis because we are applying score to self.V\n",
        "    # the shape of the tensor before applying self.V is (batch_size, max_length, units)\n",
        "    score = self.V(tf.nn.tanh(\n",
        "        self.W1(values) + self.W2(hidden_with_time_axis)))\n",
        "\n",
        "    # attention_weights shape == (batch_size, max_length, 1)\n",
        "    attention_weights = tf.nn.softmax(score, axis=1)\n",
        "\n",
        "    # context_vector shape after sum == (batch_size, hidden_size)\n",
        "    context_vector = attention_weights * values\n",
        "    context_vector = tf.reduce_sum(context_vector, axis=1)\n",
        "\n",
        "    return context_vector, attention_weights\n"
      ],
      "metadata": {
        "id": "udObetV0Ct4-"
      },
      "execution_count": null,
      "outputs": []
    },
    {
      "cell_type": "code",
      "source": [
        "sequence_input = Input(shape=(max_len,), dtype='int32')\n",
        "embedded_sequences = Embedding(vocab_size, 128, input_length=max_len, mask_zero = True)(sequence_input)"
      ],
      "metadata": {
        "id": "yT50akwmAT_J"
      },
      "execution_count": null,
      "outputs": []
    },
    {
      "cell_type": "code",
      "source": [
        "lstm = Bidirectional(LSTM(64, dropout=0.5, return_sequences = True))(embedded_sequences)\n",
        "# 두번째 층을 설계합니다. 상태를 리턴받아야 하므로 return_state를 True로 해주어야 합니다.\n",
        "\n",
        "(lstm, forward_h, forward_c, backward_h, backward_c) = Bidirectional(LSTM(64, dropout=0.5, return_sequences=True, return_state=True), name=\"bi_lstm_2\")(lstm)\n",
        "# 각 상태의 크기(shape)를 출력해보겠습니다.\n",
        "\n",
        "print(lstm.shape, forward_h.shape, forward_c.shape, backward_h.shape, backward_c.shape)\n"
      ],
      "metadata": {
        "colab": {
          "base_uri": "https://localhost:8080/"
        },
        "id": "GEY00WhHB2Kp",
        "outputId": "d6914a13-7677-437c-9073-f8cbf87a3091"
      },
      "execution_count": null,
      "outputs": [
        {
          "output_type": "stream",
          "name": "stdout",
          "text": [
            "(None, 42, 128) (None, 64) (None, 64) (None, 64) (None, 64)\n"
          ]
        }
      ]
    },
    {
      "cell_type": "code",
      "source": [
        "state_h = Concatenate()([forward_h, backward_h]) # 은닉 상태\n",
        "state_c = Concatenate()([forward_c, backward_c]) # 셀 상태\n",
        "# 어텐션 메커니즘에서는 은닉 상태를 사용합니다. 이를 입력으로 컨텍스트 벡터(context vector)를 얻습니다.\n",
        "\n",
        "attention = BahdanauAttention(64) # 가중치 크기 정의\n",
        "context_vector, attention_weights = attention(lstm, state_h)\n",
        "# 컨텍스트 벡터를 밀집층(dense layer)에 통과시키고, 이진 분류이므로 최종 출력층에 1개의 뉴런을 배치하고, 활성화 함수로 시그모이드 함수를 사용합니다.\n",
        "\n",
        "dense1 = Dense(20, activation=\"relu\")(context_vector)\n",
        "dropout = Dropout(0.5)(dense1)\n",
        "output = Dense(1, activation=\"sigmoid\")(dropout)\n",
        "model = Model(inputs=sequence_input, outputs=output)\n",
        "\n",
        "# -----------------------------------------------------------------------------------------"
      ],
      "metadata": {
        "id": "Rd_t1gTmD2eo"
      },
      "execution_count": null,
      "outputs": []
    },
    {
      "cell_type": "code",
      "source": [
        "METRICS = [\n",
        "      keras.metrics.TruePositives(name='tp'),\n",
        "      keras.metrics.FalsePositives(name='fp'),\n",
        "      keras.metrics.TrueNegatives(name='tn'),\n",
        "      keras.metrics.FalseNegatives(name='fn'),\n",
        "      keras.metrics.BinaryAccuracy(name='accuracy'),\n",
        "      keras.metrics.Precision(name='precision'),\n",
        "      keras.metrics.Recall(name='recall'),\n",
        "      keras.metrics.AUC(name='auc'),\n",
        "]\n"
      ],
      "metadata": {
        "id": "2AU0rRFSdO5D"
      },
      "execution_count": null,
      "outputs": []
    },
    {
      "cell_type": "code",
      "source": [
        "with tf.device('/device:GPU:0'):\n",
        "  model.compile(loss='binary_crossentropy', optimizer='adam', metrics=['accuracy'])\n",
        "  es = EarlyStopping(monitor='val_loss', mode='min', verbose=1, patience=4)\n",
        "  history = model.fit(X_train, y_train, epochs = 4, batch_size = 64, callbacks = es, validation_data=(X_test, y_test), verbose=1)\n",
        "\n",
        "model.save('/content/bi_attention_2.h5')"
      ],
      "metadata": {
        "colab": {
          "base_uri": "https://localhost:8080/"
        },
        "id": "f66LDp_fERz0",
        "outputId": "af2179b9-7fe3-4883-c382-aa81c488f027"
      },
      "execution_count": null,
      "outputs": [
        {
          "output_type": "stream",
          "name": "stdout",
          "text": [
            "Epoch 1/4\n",
            "2704/2704 [==============================] - 1355s 488ms/step - loss: 0.4030 - accuracy: 0.8224 - val_loss: 0.3483 - val_accuracy: 0.8427\n",
            "Epoch 2/4\n",
            "2704/2704 [==============================] - 1280s 473ms/step - loss: 0.3236 - accuracy: 0.8658 - val_loss: 0.3387 - val_accuracy: 0.8510\n",
            "Epoch 3/4\n",
            "2704/2704 [==============================] - 1263s 467ms/step - loss: 0.2871 - accuracy: 0.8837 - val_loss: 0.3462 - val_accuracy: 0.8520\n",
            "Epoch 4/4\n",
            "2704/2704 [==============================] - 1262s 467ms/step - loss: 0.2553 - accuracy: 0.8971 - val_loss: 0.3606 - val_accuracy: 0.8506\n"
          ]
        }
      ]
    },
    {
      "cell_type": "code",
      "source": [
        "import re\n",
        "\n",
        "max_len = 42\n",
        "\n",
        "def test(new_sentence):\n",
        "  new_sentence = re.sub(r'[^ㄱ-ㅎㅏ-ㅣ가-힣 ]','', new_sentence)\n",
        "  tmp = twi.morphs(new_sentence,stem=True,norm=True)  #토큰화\n",
        "  tmp = [word for word in tmp if not word in stopwords]  #불용어 제거\n",
        "  encoded = tokenizer.texts_to_sequences([tmp])\n",
        "  pad_new = pad_sequences(encoded, maxlen = max_len)\n",
        "  score = float(model.predict(pad_new))\n",
        "\n",
        "  print(tmp)\n",
        "  print(encoded)\n",
        "  print(pad_new)\n",
        "  print(score)\n",
        "\n",
        "test('이딴게 재밌냐?')"
      ],
      "metadata": {
        "colab": {
          "base_uri": "https://localhost:8080/"
        },
        "id": "htHgoUFq2oX1",
        "outputId": "e85d3445-1822-4cfc-cf08-30b03e478209"
      },
      "execution_count": null,
      "outputs": [
        {
          "output_type": "stream",
          "name": "stdout",
          "text": [
            "1/1 [==============================] - 0s 94ms/step\n",
            "['이딴', '재밌다']\n",
            "[[527, 18]]\n",
            "[[  0   0   0   0   0   0   0   0   0   0   0   0   0   0   0   0   0   0\n",
            "    0   0   0   0   0   0   0   0   0   0   0   0   0   0   0   0   0   0\n",
            "    0   0   0   0 527  18]]\n",
            "0.24862578511238098\n"
          ]
        }
      ]
    },
    {
      "cell_type": "code",
      "source": [
        "class BahdanauAttention(tf.keras.layers.Layer):\n",
        "    def __init__(self, units):\n",
        "        super(BahdanauAttention, self).__init__()\n",
        "        self.W1 = tf.keras.layers.Dense(units)\n",
        "        self.W2 = tf.keras.layers.Dense(units)\n",
        "        self.V = tf.keras.layers.Dense(1)\n",
        "\n",
        "    def call(self, values, query):\n",
        "        # query shape == (batch_size, hidden size)\n",
        "        # hidden_with_time_axis shape == (batch_size, 1, hidden size)\n",
        "        # score 계산을 위해 뒤에서 할 덧셈을 위해서 차원을 변경해줍니다.\n",
        "        hidden_with_time_axis = tf.expand_dims(query, 1)\n",
        "\n",
        "        # score shape == (batch_size, max_length, 1)\n",
        "        # we get 1 at the last axis because we are applying score to self.V\n",
        "        # the shape of the tensor before applying self.V is (batch_size, max_length, units)\n",
        "        score = self.V(tf.nn.tanh(\n",
        "            self.W1(values) + self.W2(hidden_with_time_axis)))\n",
        "\n",
        "        # attention_weights shape == (batch_size, max_length, 1)\n",
        "        attention_weights = tf.nn.softmax(score, axis=1)\n",
        "\n",
        "        # context_vector shape after sum == (batch_size, hidden_size)\n",
        "        context_vector = attention_weights * values\n",
        "        context_vector = tf.reduce_sum(context_vector, axis=1)\n",
        "\n",
        "        return context_vector, attention_weights\n",
        "\n",
        "\n",
        "sequence_input = tf.keras.Input(shape=(max_len,), dtype='int32')\n",
        "embedded_sequences = tf.keras.layers.Embedding(vocab_size, 128, input_length=max_len, mask_zero=True)(sequence_input)\n",
        "\n",
        "lstm = tf.keras.layers.LSTM(64, dropout=0.5, return_sequences=True)(embedded_sequences)\n",
        "\n",
        "attention = BahdanauAttention(64)  # 가중치 크기 정의\n",
        "context_vector, attention_weights = attention(lstm, lstm)  # Attention 적용\n",
        "\n",
        "dense1 = tf.keras.layers.Dense(20, activation=\"relu\")(context_vector)\n",
        "dropout = tf.keras.layers.Dropout(0.5)(dense1)\n",
        "output = tf.keras.layers.Dense(1, activation=\"sigmoid\")(dropout)\n",
        "model = tf.keras.Model(inputs=sequence_input, outputs=output)\n"
      ],
      "metadata": {
        "id": "PMngsn89fb2V"
      },
      "execution_count": null,
      "outputs": []
    }
  ]
}